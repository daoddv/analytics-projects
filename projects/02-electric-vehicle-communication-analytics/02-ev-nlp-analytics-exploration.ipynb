{
  "nbformat": 4,
  "nbformat_minor": 0,
  "metadata": {
    "colab": {
      "name": "Untitled0.ipynb",
      "provenance": [],
      "toc_visible": true
    },
    "kernelspec": {
      "name": "python3",
      "display_name": "Python 3"
    },
    "language_info": {
      "name": "python"
    }
  },
  "cells": [
    {
      "cell_type": "markdown",
      "metadata": {
        "id": "kCE_C2OdhD1q"
      },
      "source": [
        "# Social Network Sentiment Analysis   \n",
        "[![Open In Colab](https://colab.research.google.com/assets/colab-badge.svg)](https://colab.research.google.com/drive/1pxUaSM778-1GZASCo2t9W91RSsbsxoBN#scrollTo=kCE_C2OdhD1q)  \n",
        "This repository will analyze the comments on Reddit regardings electric vehicle."
      ]
    },
    {
      "cell_type": "markdown",
      "metadata": {
        "id": "vpo5SXkmSHjw"
      },
      "source": [
        "# Load Reddit dataset"
      ]
    },
    {
      "cell_type": "code",
      "metadata": {
        "id": "C_A1bvU3SUXC"
      },
      "source": [
        "# import library\n",
        "import pandas as pd"
      ],
      "execution_count": null,
      "outputs": []
    },
    {
      "cell_type": "code",
      "metadata": {
        "colab": {
          "base_uri": "https://localhost:8080/",
          "height": 406
        },
        "id": "2jyXsjA_SHxI",
        "outputId": "96ed0e63-3a2a-4d60-a17d-5b4beb7d8836"
      },
      "source": [
        "# load reddit tweet dataset\n",
        "df_reddit = pd.read_excel(\"EV_community_discussion_data.xlsx\", sheet_name='Reddit')\n",
        "\n",
        "# View the dataset\n",
        "df_reddit"
      ],
      "execution_count": null,
      "outputs": [
        {
          "output_type": "execute_result",
          "data": {
            "text/html": [
              "<div>\n",
              "<style scoped>\n",
              "    .dataframe tbody tr th:only-of-type {\n",
              "        vertical-align: middle;\n",
              "    }\n",
              "\n",
              "    .dataframe tbody tr th {\n",
              "        vertical-align: top;\n",
              "    }\n",
              "\n",
              "    .dataframe thead th {\n",
              "        text-align: right;\n",
              "    }\n",
              "</style>\n",
              "<table border=\"1\" class=\"dataframe\">\n",
              "  <thead>\n",
              "    <tr style=\"text-align: right;\">\n",
              "      <th></th>\n",
              "      <th>id</th>\n",
              "      <th>comment</th>\n",
              "      <th>title</th>\n",
              "      <th>date</th>\n",
              "    </tr>\n",
              "  </thead>\n",
              "  <tbody>\n",
              "    <tr>\n",
              "      <th>0</th>\n",
              "      <td>R1</td>\n",
              "      <td>It's really just time now. Electric are good e...</td>\n",
              "      <td>How far can an Electric Car make it in Australia?</td>\n",
              "      <td>2020-01-15</td>\n",
              "    </tr>\n",
              "    <tr>\n",
              "      <th>1</th>\n",
              "      <td>R2</td>\n",
              "      <td>There's about 5 chargefox chargers at my local...</td>\n",
              "      <td>How far can an Electric Car make it in Australia?</td>\n",
              "      <td>2020-01-15</td>\n",
              "    </tr>\n",
              "    <tr>\n",
              "      <th>2</th>\n",
              "      <td>R3</td>\n",
              "      <td>Doesn't exactly present a glowing review reall...</td>\n",
              "      <td>How far can an Electric Car make it in Australia?</td>\n",
              "      <td>2020-01-15</td>\n",
              "    </tr>\n",
              "    <tr>\n",
              "      <th>3</th>\n",
              "      <td>R4</td>\n",
              "      <td>I've been thinking a \"Swap and Go\" system woul...</td>\n",
              "      <td>How far can an Electric Car make it in Australia?</td>\n",
              "      <td>2020-01-15</td>\n",
              "    </tr>\n",
              "    <tr>\n",
              "      <th>4</th>\n",
              "      <td>R5</td>\n",
              "      <td>I was looking forward to good information and ...</td>\n",
              "      <td>How far can an Electric Car make it in Australia?</td>\n",
              "      <td>2020-01-15</td>\n",
              "    </tr>\n",
              "    <tr>\n",
              "      <th>...</th>\n",
              "      <td>...</td>\n",
              "      <td>...</td>\n",
              "      <td>...</td>\n",
              "      <td>...</td>\n",
              "    </tr>\n",
              "    <tr>\n",
              "      <th>1529</th>\n",
              "      <td>R1530</td>\n",
              "      <td>Almost...\\n\\nThe cheapest model is the 70.\\n\\n...</td>\n",
              "      <td>The UK and other countries get concessions, gr...</td>\n",
              "      <td>2020-03-08</td>\n",
              "    </tr>\n",
              "    <tr>\n",
              "      <th>1530</th>\n",
              "      <td>R1531</td>\n",
              "      <td>Fair enough, I was just going by the site and ...</td>\n",
              "      <td>The UK and other countries get concessions, gr...</td>\n",
              "      <td>2020-03-08</td>\n",
              "    </tr>\n",
              "    <tr>\n",
              "      <th>1531</th>\n",
              "      <td>R1532</td>\n",
              "      <td>Yeah, their design section is a little confusi...</td>\n",
              "      <td>The UK and other countries get concessions, gr...</td>\n",
              "      <td>2020-03-08</td>\n",
              "    </tr>\n",
              "    <tr>\n",
              "      <th>1532</th>\n",
              "      <td>R1533</td>\n",
              "      <td>**Looks**, inside and out. Lamborghinis have j...</td>\n",
              "      <td>The UK and other countries get concessions, gr...</td>\n",
              "      <td>2020-03-08</td>\n",
              "    </tr>\n",
              "    <tr>\n",
              "      <th>1533</th>\n",
              "      <td>R1534</td>\n",
              "      <td>Fair enough. Just seemed odd, that's all.\\n\\nJ...</td>\n",
              "      <td>The UK and other countries get concessions, gr...</td>\n",
              "      <td>2020-03-08</td>\n",
              "    </tr>\n",
              "  </tbody>\n",
              "</table>\n",
              "<p>1534 rows × 4 columns</p>\n",
              "</div>"
            ],
            "text/plain": [
              "         id  ...       date\n",
              "0        R1  ... 2020-01-15\n",
              "1        R2  ... 2020-01-15\n",
              "2        R3  ... 2020-01-15\n",
              "3        R4  ... 2020-01-15\n",
              "4        R5  ... 2020-01-15\n",
              "...     ...  ...        ...\n",
              "1529  R1530  ... 2020-03-08\n",
              "1530  R1531  ... 2020-03-08\n",
              "1531  R1532  ... 2020-03-08\n",
              "1532  R1533  ... 2020-03-08\n",
              "1533  R1534  ... 2020-03-08\n",
              "\n",
              "[1534 rows x 4 columns]"
            ]
          },
          "metadata": {
            "tags": []
          },
          "execution_count": 25
        }
      ]
    },
    {
      "cell_type": "markdown",
      "metadata": {
        "id": "SR6BK-0NlAQC"
      },
      "source": [
        "Select a subset of columns required for the analysis"
      ]
    },
    {
      "cell_type": "code",
      "metadata": {
        "id": "nHol8n8Jk_wH"
      },
      "source": [
        "df_reddit = df_reddit[['date', 'comment']]"
      ],
      "execution_count": null,
      "outputs": []
    },
    {
      "cell_type": "code",
      "metadata": {
        "colab": {
          "base_uri": "https://localhost:8080/"
        },
        "id": "d4_25FNkScsZ",
        "outputId": "064174a4-b6b4-425f-e09f-c5f31234f835"
      },
      "source": [
        "print(df_reddit.shape[0], 'records in the dataset')"
      ],
      "execution_count": null,
      "outputs": [
        {
          "output_type": "stream",
          "text": [
            "1534 records in the dataset\n"
          ],
          "name": "stdout"
        }
      ]
    },
    {
      "cell_type": "code",
      "metadata": {
        "colab": {
          "base_uri": "https://localhost:8080/"
        },
        "id": "FAQciV6qp5Rc",
        "outputId": "1781ce3c-ea77-4fdb-cec1-23c7313e255b"
      },
      "source": [
        "# check missing values\n",
        "df_reddit.isnull().sum()"
      ],
      "execution_count": null,
      "outputs": [
        {
          "output_type": "execute_result",
          "data": {
            "text/plain": [
              "date        0\n",
              "comment    24\n",
              "dtype: int64"
            ]
          },
          "metadata": {
            "tags": []
          },
          "execution_count": 28
        }
      ]
    },
    {
      "cell_type": "code",
      "metadata": {
        "colab": {
          "base_uri": "https://localhost:8080/"
        },
        "id": "bOayVxHQlP3q",
        "outputId": "039baba3-5c6f-4530-e555-be45f0a9bb02"
      },
      "source": [
        "# check the data type to make sure date is in the right format\n",
        "df_reddit.dtypes"
      ],
      "execution_count": null,
      "outputs": [
        {
          "output_type": "execute_result",
          "data": {
            "text/plain": [
              "date       datetime64[ns]\n",
              "comment            object\n",
              "dtype: object"
            ]
          },
          "metadata": {
            "tags": []
          },
          "execution_count": 29
        }
      ]
    },
    {
      "cell_type": "markdown",
      "metadata": {
        "id": "0FLGWVglluK6"
      },
      "source": [
        "# Data Pre-processing"
      ]
    },
    {
      "cell_type": "markdown",
      "metadata": {
        "id": "hVzlSi3lVnLd"
      },
      "source": [
        "**Count the number of words in each comment**"
      ]
    },
    {
      "cell_type": "code",
      "metadata": {
        "colab": {
          "base_uri": "https://localhost:8080/",
          "height": 324
        },
        "id": "2t3vSTNiVWyy",
        "outputId": "ae80efab-6dee-47d1-b1d4-7c40c2bd4b78"
      },
      "source": [
        "df_reddit['word_count'] = df_reddit['comment'].apply(lambda x: len(str(x).split(\" \")))\n",
        "df_reddit.sort_values('word_count', ascending=[False])[:5]"
      ],
      "execution_count": null,
      "outputs": [
        {
          "output_type": "stream",
          "text": [
            "/usr/local/lib/python3.7/dist-packages/ipykernel_launcher.py:1: SettingWithCopyWarning: \n",
            "A value is trying to be set on a copy of a slice from a DataFrame.\n",
            "Try using .loc[row_indexer,col_indexer] = value instead\n",
            "\n",
            "See the caveats in the documentation: https://pandas.pydata.org/pandas-docs/stable/user_guide/indexing.html#returning-a-view-versus-a-copy\n",
            "  \"\"\"Entry point for launching an IPython kernel.\n"
          ],
          "name": "stderr"
        },
        {
          "output_type": "execute_result",
          "data": {
            "text/html": [
              "<div>\n",
              "<style scoped>\n",
              "    .dataframe tbody tr th:only-of-type {\n",
              "        vertical-align: middle;\n",
              "    }\n",
              "\n",
              "    .dataframe tbody tr th {\n",
              "        vertical-align: top;\n",
              "    }\n",
              "\n",
              "    .dataframe thead th {\n",
              "        text-align: right;\n",
              "    }\n",
              "</style>\n",
              "<table border=\"1\" class=\"dataframe\">\n",
              "  <thead>\n",
              "    <tr style=\"text-align: right;\">\n",
              "      <th></th>\n",
              "      <th>date</th>\n",
              "      <th>comment</th>\n",
              "      <th>word_count</th>\n",
              "    </tr>\n",
              "  </thead>\n",
              "  <tbody>\n",
              "    <tr>\n",
              "      <th>941</th>\n",
              "      <td>2020-02-28</td>\n",
              "      <td>Dual citizen Australian/American here who spen...</td>\n",
              "      <td>520</td>\n",
              "    </tr>\n",
              "    <tr>\n",
              "      <th>942</th>\n",
              "      <td>2020-02-28</td>\n",
              "      <td>I'm not sure how many people here are actually...</td>\n",
              "      <td>470</td>\n",
              "    </tr>\n",
              "    <tr>\n",
              "      <th>1533</th>\n",
              "      <td>2020-03-08</td>\n",
              "      <td>Fair enough. Just seemed odd, that's all.\\n\\nJ...</td>\n",
              "      <td>389</td>\n",
              "    </tr>\n",
              "    <tr>\n",
              "      <th>192</th>\n",
              "      <td>2020-01-31</td>\n",
              "      <td>The issue with bringing advanced manufacturing...</td>\n",
              "      <td>373</td>\n",
              "    </tr>\n",
              "    <tr>\n",
              "      <th>944</th>\n",
              "      <td>2020-02-28</td>\n",
              "      <td>&gt; Are charging stations something you hardly s...</td>\n",
              "      <td>360</td>\n",
              "    </tr>\n",
              "  </tbody>\n",
              "</table>\n",
              "</div>"
            ],
            "text/plain": [
              "           date                                            comment  word_count\n",
              "941  2020-02-28  Dual citizen Australian/American here who spen...         520\n",
              "942  2020-02-28  I'm not sure how many people here are actually...         470\n",
              "1533 2020-03-08  Fair enough. Just seemed odd, that's all.\\n\\nJ...         389\n",
              "192  2020-01-31  The issue with bringing advanced manufacturing...         373\n",
              "944  2020-02-28  > Are charging stations something you hardly s...         360"
            ]
          },
          "metadata": {
            "tags": []
          },
          "execution_count": 30
        }
      ]
    },
    {
      "cell_type": "markdown",
      "metadata": {
        "id": "OnXj4STJVsj0"
      },
      "source": [
        "**Count the number of characters of each comment**"
      ]
    },
    {
      "cell_type": "code",
      "metadata": {
        "colab": {
          "base_uri": "https://localhost:8080/",
          "height": 197
        },
        "id": "8rMTIzR6VdzG",
        "outputId": "d8ba5db5-01bd-499b-fe05-d01f67742788"
      },
      "source": [
        "df_reddit['char_count'] = df_reddit['comment'].str.len()  # Include the spaces\n",
        "df_reddit.sort_values('char_count', ascending=[False])[:5]"
      ],
      "execution_count": null,
      "outputs": [
        {
          "output_type": "execute_result",
          "data": {
            "text/html": [
              "<div>\n",
              "<style scoped>\n",
              "    .dataframe tbody tr th:only-of-type {\n",
              "        vertical-align: middle;\n",
              "    }\n",
              "\n",
              "    .dataframe tbody tr th {\n",
              "        vertical-align: top;\n",
              "    }\n",
              "\n",
              "    .dataframe thead th {\n",
              "        text-align: right;\n",
              "    }\n",
              "</style>\n",
              "<table border=\"1\" class=\"dataframe\">\n",
              "  <thead>\n",
              "    <tr style=\"text-align: right;\">\n",
              "      <th></th>\n",
              "      <th>date</th>\n",
              "      <th>comment</th>\n",
              "      <th>word_count</th>\n",
              "      <th>char_count</th>\n",
              "    </tr>\n",
              "  </thead>\n",
              "  <tbody>\n",
              "    <tr>\n",
              "      <th>942</th>\n",
              "      <td>2020-02-28</td>\n",
              "      <td>I'm not sure how many people here are actually...</td>\n",
              "      <td>470</td>\n",
              "      <td>3606.0</td>\n",
              "    </tr>\n",
              "    <tr>\n",
              "      <th>941</th>\n",
              "      <td>2020-02-28</td>\n",
              "      <td>Dual citizen Australian/American here who spen...</td>\n",
              "      <td>520</td>\n",
              "      <td>2926.0</td>\n",
              "    </tr>\n",
              "    <tr>\n",
              "      <th>1533</th>\n",
              "      <td>2020-03-08</td>\n",
              "      <td>Fair enough. Just seemed odd, that's all.\\n\\nJ...</td>\n",
              "      <td>389</td>\n",
              "      <td>2233.0</td>\n",
              "    </tr>\n",
              "    <tr>\n",
              "      <th>192</th>\n",
              "      <td>2020-01-31</td>\n",
              "      <td>The issue with bringing advanced manufacturing...</td>\n",
              "      <td>373</td>\n",
              "      <td>2208.0</td>\n",
              "    </tr>\n",
              "    <tr>\n",
              "      <th>188</th>\n",
              "      <td>2020-01-29</td>\n",
              "      <td>I want an electric 2nd car for our family. Wit...</td>\n",
              "      <td>357</td>\n",
              "      <td>2106.0</td>\n",
              "    </tr>\n",
              "  </tbody>\n",
              "</table>\n",
              "</div>"
            ],
            "text/plain": [
              "           date  ... char_count\n",
              "942  2020-02-28  ...     3606.0\n",
              "941  2020-02-28  ...     2926.0\n",
              "1533 2020-03-08  ...     2233.0\n",
              "192  2020-01-31  ...     2208.0\n",
              "188  2020-01-29  ...     2106.0\n",
              "\n",
              "[5 rows x 4 columns]"
            ]
          },
          "metadata": {
            "tags": []
          },
          "execution_count": 31
        }
      ]
    },
    {
      "cell_type": "markdown",
      "metadata": {
        "id": "zxlKu-naWrgY"
      },
      "source": [
        "**Box plot analysis for number of words and characters in each comment**"
      ]
    },
    {
      "cell_type": "markdown",
      "metadata": {
        "id": "-ut6ljBiXR32"
      },
      "source": [
        "There are some comments contain lot of words may need to remove because according to the box plot, most of the tweets have less than ~320 words  \n",
        "And most of the comments have less than 2500 characters, thus, need to remove some of them"
      ]
    },
    {
      "cell_type": "code",
      "metadata": {
        "colab": {
          "base_uri": "https://localhost:8080/",
          "height": 283
        },
        "id": "onycP0ssWBjD",
        "outputId": "69f41b02-b690-48c0-89fa-374d6c2be4a9"
      },
      "source": [
        "df_reddit[['word_count']].boxplot()"
      ],
      "execution_count": null,
      "outputs": [
        {
          "output_type": "execute_result",
          "data": {
            "text/plain": [
              "<matplotlib.axes._subplots.AxesSubplot at 0x7f6528deeed0>"
            ]
          },
          "metadata": {
            "tags": []
          },
          "execution_count": 32
        },
        {
          "output_type": "display_data",
          "data": {
            "image/png": "[encoded data removed]",
            "text/plain": [
              "<Figure size 432x288 with 1 Axes>"
            ]
          },
          "metadata": {
            "tags": [],
            "needs_background": "light"
          }
        }
      ]
    },
    {
      "cell_type": "code",
      "metadata": {
        "colab": {
          "base_uri": "https://localhost:8080/",
          "height": 283
        },
        "id": "a4UhIqrDWJSs",
        "outputId": "be5bfba2-fede-49cf-c324-18ce8579826d"
      },
      "source": [
        "df_reddit[['char_count']].boxplot()"
      ],
      "execution_count": null,
      "outputs": [
        {
          "output_type": "execute_result",
          "data": {
            "text/plain": [
              "<matplotlib.axes._subplots.AxesSubplot at 0x7f6528de9750>"
            ]
          },
          "metadata": {
            "tags": []
          },
          "execution_count": 33
        },
        {
          "output_type": "display_data",
          "data": {
            "image/png": "[encoded data removed]",
            "text/plain": [
              "<Figure size 432x288 with 1 Axes>"
            ]
          },
          "metadata": {
            "tags": [],
            "needs_background": "light"
          }
        }
      ]
    },
    {
      "cell_type": "markdown",
      "metadata": {
        "id": "w3JZd65gXjo-"
      },
      "source": [
        "### **Remove extreme values**  \n",
        "Remove any comment that has more than 320 words and 2500 characters"
      ]
    },
    {
      "cell_type": "code",
      "metadata": {
        "colab": {
          "base_uri": "https://localhost:8080/"
        },
        "id": "snOJZnpAm1ED",
        "outputId": "f349064e-67e9-4c6b-dc35-655f2fee22b6"
      },
      "source": [
        "df_reddit = df_reddit[(df_reddit[\"word_count\"] < 320) & (df_reddit[\"char_count\"] < 2500)]\n",
        "df_reddit.info"
      ],
      "execution_count": null,
      "outputs": [
        {
          "output_type": "execute_result",
          "data": {
            "text/plain": [
              "<bound method DataFrame.info of            date  ... char_count\n",
              "0    2020-01-15  ...      195.0\n",
              "1    2020-01-15  ...      357.0\n",
              "2    2020-01-15  ...      481.0\n",
              "3    2020-01-15  ...      309.0\n",
              "4    2020-01-15  ...      731.0\n",
              "...         ...  ...        ...\n",
              "1528 2020-03-08  ...     1031.0\n",
              "1529 2020-03-08  ...      144.0\n",
              "1530 2020-03-08  ...      503.0\n",
              "1531 2020-03-08  ...     1014.0\n",
              "1532 2020-03-08  ...     1644.0\n",
              "\n",
              "[1504 rows x 4 columns]>"
            ]
          },
          "metadata": {
            "tags": []
          },
          "execution_count": 34
        }
      ]
    },
    {
      "cell_type": "code",
      "metadata": {
        "id": "v_wcapWSoMfO"
      },
      "source": [
        "# return the selected columns for next steps\n",
        "df_reddit = df_reddit[['date','comment']]"
      ],
      "execution_count": null,
      "outputs": []
    },
    {
      "cell_type": "markdown",
      "metadata": {
        "id": "GPNjnbffYQcG"
      },
      "source": [
        "# Text pre-processing"
      ]
    },
    {
      "cell_type": "markdown",
      "metadata": {
        "id": "GhA2-a6pYd7z"
      },
      "source": [
        "### Transform to lowercase\n",
        "Because Python is a case-sensitive language. Thus case distinction would be unnecessary"
      ]
    },
    {
      "cell_type": "code",
      "metadata": {
        "colab": {
          "base_uri": "https://localhost:8080/",
          "height": 324
        },
        "id": "PP_DTgteZmMq",
        "outputId": "1c80c21d-cb47-455d-fde6-21a251df141b"
      },
      "source": [
        "df_reddit['comment'] = df_reddit['comment'].str.lower()\n",
        "# View the df\n",
        "df_reddit.head()"
      ],
      "execution_count": null,
      "outputs": [
        {
          "output_type": "stream",
          "text": [
            "/usr/local/lib/python3.7/dist-packages/ipykernel_launcher.py:1: SettingWithCopyWarning: \n",
            "A value is trying to be set on a copy of a slice from a DataFrame.\n",
            "Try using .loc[row_indexer,col_indexer] = value instead\n",
            "\n",
            "See the caveats in the documentation: https://pandas.pydata.org/pandas-docs/stable/user_guide/indexing.html#returning-a-view-versus-a-copy\n",
            "  \"\"\"Entry point for launching an IPython kernel.\n"
          ],
          "name": "stderr"
        },
        {
          "output_type": "execute_result",
          "data": {
            "text/html": [
              "<div>\n",
              "<style scoped>\n",
              "    .dataframe tbody tr th:only-of-type {\n",
              "        vertical-align: middle;\n",
              "    }\n",
              "\n",
              "    .dataframe tbody tr th {\n",
              "        vertical-align: top;\n",
              "    }\n",
              "\n",
              "    .dataframe thead th {\n",
              "        text-align: right;\n",
              "    }\n",
              "</style>\n",
              "<table border=\"1\" class=\"dataframe\">\n",
              "  <thead>\n",
              "    <tr style=\"text-align: right;\">\n",
              "      <th></th>\n",
              "      <th>date</th>\n",
              "      <th>comment</th>\n",
              "    </tr>\n",
              "  </thead>\n",
              "  <tbody>\n",
              "    <tr>\n",
              "      <th>0</th>\n",
              "      <td>2020-01-15</td>\n",
              "      <td>it's really just time now. electric are good e...</td>\n",
              "    </tr>\n",
              "    <tr>\n",
              "      <th>1</th>\n",
              "      <td>2020-01-15</td>\n",
              "      <td>there's about 5 chargefox chargers at my local...</td>\n",
              "    </tr>\n",
              "    <tr>\n",
              "      <th>2</th>\n",
              "      <td>2020-01-15</td>\n",
              "      <td>doesn't exactly present a glowing review reall...</td>\n",
              "    </tr>\n",
              "    <tr>\n",
              "      <th>3</th>\n",
              "      <td>2020-01-15</td>\n",
              "      <td>i've been thinking a \"swap and go\" system woul...</td>\n",
              "    </tr>\n",
              "    <tr>\n",
              "      <th>4</th>\n",
              "      <td>2020-01-15</td>\n",
              "      <td>i was looking forward to good information and ...</td>\n",
              "    </tr>\n",
              "  </tbody>\n",
              "</table>\n",
              "</div>"
            ],
            "text/plain": [
              "        date                                            comment\n",
              "0 2020-01-15  it's really just time now. electric are good e...\n",
              "1 2020-01-15  there's about 5 chargefox chargers at my local...\n",
              "2 2020-01-15  doesn't exactly present a glowing review reall...\n",
              "3 2020-01-15  i've been thinking a \"swap and go\" system woul...\n",
              "4 2020-01-15  i was looking forward to good information and ..."
            ]
          },
          "metadata": {
            "tags": []
          },
          "execution_count": 36
        }
      ]
    },
    {
      "cell_type": "markdown",
      "metadata": {
        "id": "CZ9zz1OI2WEp"
      },
      "source": [
        "### Remove duplicate values"
      ]
    },
    {
      "cell_type": "code",
      "metadata": {
        "colab": {
          "base_uri": "https://localhost:8080/"
        },
        "id": "35sVwfeL2ZDz",
        "outputId": "723f7a0a-41c7-462b-d9fc-dee9044f2876"
      },
      "source": [
        "# Remove duplicate values\n",
        "duplicate_count = len(df_reddit['comment'])-len(df_reddit['comment'].drop_duplicates())\n",
        "\n",
        "print(duplicate_count, 'duplicate values')\n",
        "print(df_reddit.shape[0], 'records before remove duplicates')"
      ],
      "execution_count": null,
      "outputs": [
        {
          "output_type": "stream",
          "text": [
            "70 duplicate values\n",
            "1504 records before remove duplicates\n"
          ],
          "name": "stdout"
        }
      ]
    },
    {
      "cell_type": "code",
      "metadata": {
        "colab": {
          "base_uri": "https://localhost:8080/"
        },
        "id": "krMcDS_gopnu",
        "outputId": "7d82da11-7001-476b-b5d6-100c78c12518"
      },
      "source": [
        "# drop duplicates (keep the last comment of each of the duplicates)\n",
        "df_reddit = df_reddit.drop_duplicates(subset='comment', keep=\"first\")\n",
        "print(df_reddit.shape[0], 'records record after removed duplicate values:')"
      ],
      "execution_count": null,
      "outputs": [
        {
          "output_type": "stream",
          "text": [
            "1434 records record after removed duplicate values:\n"
          ],
          "name": "stdout"
        }
      ]
    },
    {
      "cell_type": "markdown",
      "metadata": {
        "id": "stDhPxRyjw1P"
      },
      "source": [
        "### Remove special characters\n",
        "The given dataset contains some urls and unique characters (@, #) which are not relevant for analysis, thus those words will be removed"
      ]
    },
    {
      "cell_type": "code",
      "metadata": {
        "id": "B3SvBOnB20bL",
        "colab": {
          "base_uri": "https://localhost:8080/",
          "height": 197
        },
        "outputId": "ad06cdf7-2d3a-45be-9781-618d2b94b963"
      },
      "source": [
        "# Import Regular Expression Python module\n",
        "import re\n",
        "\n",
        "# Define function\n",
        "def cleanUpComment(comment):\n",
        "  # remove any sequence of characters followed by '@' sign\n",
        "  unique_tweet = re.sub(r\"(@[A-Za-z0-9]+)|([^0-9A-Za-z \\t])|(\\w+:\\/\\/\\S+)\", \"\", str(comment))\n",
        "  \n",
        "  # remove multiple spaces\n",
        "  spaces_removed = re.sub(r\"\\s\\s+\", \" \", str(unique_tweet)) \n",
        "\n",
        "  return spaces_removed\n",
        "\n",
        "df_reddit['comment'] = df_reddit['comment'].apply(cleanUpComment)\n",
        "df_reddit.head(5)"
      ],
      "execution_count": null,
      "outputs": [
        {
          "output_type": "execute_result",
          "data": {
            "text/html": [
              "<div>\n",
              "<style scoped>\n",
              "    .dataframe tbody tr th:only-of-type {\n",
              "        vertical-align: middle;\n",
              "    }\n",
              "\n",
              "    .dataframe tbody tr th {\n",
              "        vertical-align: top;\n",
              "    }\n",
              "\n",
              "    .dataframe thead th {\n",
              "        text-align: right;\n",
              "    }\n",
              "</style>\n",
              "<table border=\"1\" class=\"dataframe\">\n",
              "  <thead>\n",
              "    <tr style=\"text-align: right;\">\n",
              "      <th></th>\n",
              "      <th>date</th>\n",
              "      <th>comment</th>\n",
              "    </tr>\n",
              "  </thead>\n",
              "  <tbody>\n",
              "    <tr>\n",
              "      <th>0</th>\n",
              "      <td>2020-01-15</td>\n",
              "      <td>its really just time now electric are good eno...</td>\n",
              "    </tr>\n",
              "    <tr>\n",
              "      <th>1</th>\n",
              "      <td>2020-01-15</td>\n",
              "      <td>theres about 5 chargefox chargers at my local ...</td>\n",
              "    </tr>\n",
              "    <tr>\n",
              "      <th>2</th>\n",
              "      <td>2020-01-15</td>\n",
              "      <td>doesnt exactly present a glowing review really...</td>\n",
              "    </tr>\n",
              "    <tr>\n",
              "      <th>3</th>\n",
              "      <td>2020-01-15</td>\n",
              "      <td>ive been thinking a swap and go system would w...</td>\n",
              "    </tr>\n",
              "    <tr>\n",
              "      <th>4</th>\n",
              "      <td>2020-01-15</td>\n",
              "      <td>i was looking forward to good information and ...</td>\n",
              "    </tr>\n",
              "  </tbody>\n",
              "</table>\n",
              "</div>"
            ],
            "text/plain": [
              "        date                                            comment\n",
              "0 2020-01-15  its really just time now electric are good eno...\n",
              "1 2020-01-15  theres about 5 chargefox chargers at my local ...\n",
              "2 2020-01-15  doesnt exactly present a glowing review really...\n",
              "3 2020-01-15  ive been thinking a swap and go system would w...\n",
              "4 2020-01-15  i was looking forward to good information and ..."
            ]
          },
          "metadata": {
            "tags": []
          },
          "execution_count": 43
        }
      ]
    },
    {
      "cell_type": "markdown",
      "metadata": {
        "id": "r41RuFyCZyl3"
      },
      "source": [
        "### Remove regular expressions\n",
        "A regular expression is a special sequence of characters that helps to match or find other strings or sets of strings. Does not help the machine learning process."
      ]
    },
    {
      "cell_type": "code",
      "metadata": {
        "colab": {
          "base_uri": "https://localhost:8080/",
          "height": 197
        },
        "id": "rui1O9_2bD3U",
        "outputId": "e551dd6b-cbcf-4d88-ac81-4ff0b09a46fb"
      },
      "source": [
        "df_reddit['comment'] = df_reddit['comment'].str.replace('[^\\w\\s]','')\n",
        "df_reddit.head(5)"
      ],
      "execution_count": null,
      "outputs": [
        {
          "output_type": "execute_result",
          "data": {
            "text/html": [
              "<div>\n",
              "<style scoped>\n",
              "    .dataframe tbody tr th:only-of-type {\n",
              "        vertical-align: middle;\n",
              "    }\n",
              "\n",
              "    .dataframe tbody tr th {\n",
              "        vertical-align: top;\n",
              "    }\n",
              "\n",
              "    .dataframe thead th {\n",
              "        text-align: right;\n",
              "    }\n",
              "</style>\n",
              "<table border=\"1\" class=\"dataframe\">\n",
              "  <thead>\n",
              "    <tr style=\"text-align: right;\">\n",
              "      <th></th>\n",
              "      <th>date</th>\n",
              "      <th>comment</th>\n",
              "    </tr>\n",
              "  </thead>\n",
              "  <tbody>\n",
              "    <tr>\n",
              "      <th>0</th>\n",
              "      <td>2020-01-15</td>\n",
              "      <td>its really just time now electric are good eno...</td>\n",
              "    </tr>\n",
              "    <tr>\n",
              "      <th>1</th>\n",
              "      <td>2020-01-15</td>\n",
              "      <td>theres about 5 chargefox chargers at my local ...</td>\n",
              "    </tr>\n",
              "    <tr>\n",
              "      <th>2</th>\n",
              "      <td>2020-01-15</td>\n",
              "      <td>doesnt exactly present a glowing review really...</td>\n",
              "    </tr>\n",
              "    <tr>\n",
              "      <th>3</th>\n",
              "      <td>2020-01-15</td>\n",
              "      <td>ive been thinking a swap and go system would w...</td>\n",
              "    </tr>\n",
              "    <tr>\n",
              "      <th>4</th>\n",
              "      <td>2020-01-15</td>\n",
              "      <td>i was looking forward to good information and ...</td>\n",
              "    </tr>\n",
              "  </tbody>\n",
              "</table>\n",
              "</div>"
            ],
            "text/plain": [
              "        date                                            comment\n",
              "0 2020-01-15  its really just time now electric are good eno...\n",
              "1 2020-01-15  theres about 5 chargefox chargers at my local ...\n",
              "2 2020-01-15  doesnt exactly present a glowing review really...\n",
              "3 2020-01-15  ive been thinking a swap and go system would w...\n",
              "4 2020-01-15  i was looking forward to good information and ..."
            ]
          },
          "metadata": {
            "tags": []
          },
          "execution_count": 44
        }
      ]
    },
    {
      "cell_type": "markdown",
      "metadata": {
        "id": "oqu9IjYbbZEz"
      },
      "source": [
        "### Remove digits\n",
        "In this sentiment analysis numbers or digits are not relevant. Therefore, remove any digit in the Tweet"
      ]
    },
    {
      "cell_type": "code",
      "metadata": {
        "colab": {
          "base_uri": "https://localhost:8080/",
          "height": 197
        },
        "id": "0Xey-_-rbnvP",
        "outputId": "c695f1ac-78e1-428c-d8b1-1b0235a08925"
      },
      "source": [
        "# define the function\n",
        "def remove_digits(sent):\n",
        "  return \" \".join(w for w in sent.split() if not w.isdigit())\n",
        "\n",
        "df_reddit['comment'] = df_reddit['comment'].apply(remove_digits)\n",
        "df_reddit.head()"
      ],
      "execution_count": null,
      "outputs": [
        {
          "output_type": "execute_result",
          "data": {
            "text/html": [
              "<div>\n",
              "<style scoped>\n",
              "    .dataframe tbody tr th:only-of-type {\n",
              "        vertical-align: middle;\n",
              "    }\n",
              "\n",
              "    .dataframe tbody tr th {\n",
              "        vertical-align: top;\n",
              "    }\n",
              "\n",
              "    .dataframe thead th {\n",
              "        text-align: right;\n",
              "    }\n",
              "</style>\n",
              "<table border=\"1\" class=\"dataframe\">\n",
              "  <thead>\n",
              "    <tr style=\"text-align: right;\">\n",
              "      <th></th>\n",
              "      <th>date</th>\n",
              "      <th>comment</th>\n",
              "    </tr>\n",
              "  </thead>\n",
              "  <tbody>\n",
              "    <tr>\n",
              "      <th>0</th>\n",
              "      <td>2020-01-15</td>\n",
              "      <td>its really just time now electric are good eno...</td>\n",
              "    </tr>\n",
              "    <tr>\n",
              "      <th>1</th>\n",
              "      <td>2020-01-15</td>\n",
              "      <td>theres about chargefox chargers at my local we...</td>\n",
              "    </tr>\n",
              "    <tr>\n",
              "      <th>2</th>\n",
              "      <td>2020-01-15</td>\n",
              "      <td>doesnt exactly present a glowing review really...</td>\n",
              "    </tr>\n",
              "    <tr>\n",
              "      <th>3</th>\n",
              "      <td>2020-01-15</td>\n",
              "      <td>ive been thinking a swap and go system would w...</td>\n",
              "    </tr>\n",
              "    <tr>\n",
              "      <th>4</th>\n",
              "      <td>2020-01-15</td>\n",
              "      <td>i was looking forward to good information and ...</td>\n",
              "    </tr>\n",
              "  </tbody>\n",
              "</table>\n",
              "</div>"
            ],
            "text/plain": [
              "        date                                            comment\n",
              "0 2020-01-15  its really just time now electric are good eno...\n",
              "1 2020-01-15  theres about chargefox chargers at my local we...\n",
              "2 2020-01-15  doesnt exactly present a glowing review really...\n",
              "3 2020-01-15  ive been thinking a swap and go system would w...\n",
              "4 2020-01-15  i was looking forward to good information and ..."
            ]
          },
          "metadata": {
            "tags": []
          },
          "execution_count": 45
        }
      ]
    },
    {
      "cell_type": "markdown",
      "metadata": {
        "id": "7lJXfQSrcLoc"
      },
      "source": [
        "### Remove Stopwords\n",
        "Stopwords are irrelevant for NLP purposes because they occur frequently in the language. Therefore, they need to be removed from the dataset.  "
      ]
    },
    {
      "cell_type": "code",
      "metadata": {
        "colab": {
          "base_uri": "https://localhost:8080/"
        },
        "id": "xpL2Nc0KcVnS",
        "outputId": "032762c1-798c-4fd8-e2b8-1184303a2bfc"
      },
      "source": [
        "# Load NLTK library\n",
        "import nltk\n",
        "\n",
        "# Download the stopwords to the nltk library\n",
        "nltk.download('stopwords')\n",
        "\n",
        "# Load the stopwords\n",
        "from nltk.corpus import stopwords"
      ],
      "execution_count": null,
      "outputs": [
        {
          "output_type": "stream",
          "text": [
            "[nltk_data] Downloading package stopwords to /root/nltk_data...\n",
            "[nltk_data]   Unzipping corpora/stopwords.zip.\n"
          ],
          "name": "stdout"
        }
      ]
    },
    {
      "cell_type": "code",
      "metadata": {
        "id": "UA20nAY1ZUXN",
        "colab": {
          "base_uri": "https://localhost:8080/"
        },
        "outputId": "e0f90e42-2a66-4ff5-d7d8-bf3532c267b8"
      },
      "source": [
        "# create stop words list\n",
        "stop = stopwords.words('english')\n",
        "\n",
        "# Remove not because 'not' is negative impact on sentiment analysis\n",
        "stop.remove('not')\n",
        "\n",
        "# Add some words to stop word list\n",
        "sw_list = ['cant', 'dont', 'doesnt', 'didnt','even', 'get', 'got', 'im','isnt', 'one', 'thats', 'theyre', 'youre', 'theres', 'people', 'would', 'could', 'still', 'many', 'much', 'also', 'every' , 'well', ]\n",
        "stop.extend(sw_list)\n",
        "\n",
        "# Print the list of stop words\n",
        "print(stop)"
      ],
      "execution_count": null,
      "outputs": [
        {
          "output_type": "stream",
          "text": [
            "['i', 'me', 'my', 'myself', 'we', 'our', 'ours', 'ourselves', 'you', \"you're\", \"you've\", \"you'll\", \"you'd\", 'your', 'yours', 'yourself', 'yourselves', 'he', 'him', 'his', 'himself', 'she', \"she's\", 'her', 'hers', 'herself', 'it', \"it's\", 'its', 'itself', 'they', 'them', 'their', 'theirs', 'themselves', 'what', 'which', 'who', 'whom', 'this', 'that', \"that'll\", 'these', 'those', 'am', 'is', 'are', 'was', 'were', 'be', 'been', 'being', 'have', 'has', 'had', 'having', 'do', 'does', 'did', 'doing', 'a', 'an', 'the', 'and', 'but', 'if', 'or', 'because', 'as', 'until', 'while', 'of', 'at', 'by', 'for', 'with', 'about', 'against', 'between', 'into', 'through', 'during', 'before', 'after', 'above', 'below', 'to', 'from', 'up', 'down', 'in', 'out', 'on', 'off', 'over', 'under', 'again', 'further', 'then', 'once', 'here', 'there', 'when', 'where', 'why', 'how', 'all', 'any', 'both', 'each', 'few', 'more', 'most', 'other', 'some', 'such', 'no', 'nor', 'only', 'own', 'same', 'so', 'than', 'too', 'very', 's', 't', 'can', 'will', 'just', 'don', \"don't\", 'should', \"should've\", 'now', 'd', 'll', 'm', 'o', 're', 've', 'y', 'ain', 'aren', \"aren't\", 'couldn', \"couldn't\", 'didn', \"didn't\", 'doesn', \"doesn't\", 'hadn', \"hadn't\", 'hasn', \"hasn't\", 'haven', \"haven't\", 'isn', \"isn't\", 'ma', 'mightn', \"mightn't\", 'mustn', \"mustn't\", 'needn', \"needn't\", 'shan', \"shan't\", 'shouldn', \"shouldn't\", 'wasn', \"wasn't\", 'weren', \"weren't\", 'won', \"won't\", 'wouldn', \"wouldn't\", 'cant', 'dont', 'doesnt', 'didnt', 'even', 'get', 'got', 'im', 'isnt', 'one', 'thats', 'theyre', 'youre', 'theres', 'people', 'would', 'could', 'still', 'many', 'much', 'also', 'every', 'well']\n"
          ],
          "name": "stdout"
        }
      ]
    },
    {
      "cell_type": "code",
      "metadata": {
        "colab": {
          "base_uri": "https://localhost:8080/",
          "height": 197
        },
        "id": "456X1D_Tc7Od",
        "outputId": "52bd8bf7-97d5-4151-811f-6e2eca9db4a6"
      },
      "source": [
        "# Remove stop words (from NLTK stop word list) from the Tweets\n",
        "df_reddit['comment'] = df_reddit['comment'].apply(lambda x: \" \".join(x for x in x.split() if x not in stop))\n",
        "df_reddit.head(5)"
      ],
      "execution_count": null,
      "outputs": [
        {
          "output_type": "execute_result",
          "data": {
            "text/html": [
              "<div>\n",
              "<style scoped>\n",
              "    .dataframe tbody tr th:only-of-type {\n",
              "        vertical-align: middle;\n",
              "    }\n",
              "\n",
              "    .dataframe tbody tr th {\n",
              "        vertical-align: top;\n",
              "    }\n",
              "\n",
              "    .dataframe thead th {\n",
              "        text-align: right;\n",
              "    }\n",
              "</style>\n",
              "<table border=\"1\" class=\"dataframe\">\n",
              "  <thead>\n",
              "    <tr style=\"text-align: right;\">\n",
              "      <th></th>\n",
              "      <th>date</th>\n",
              "      <th>comment</th>\n",
              "    </tr>\n",
              "  </thead>\n",
              "  <tbody>\n",
              "    <tr>\n",
              "      <th>0</th>\n",
              "      <td>2020-01-15</td>\n",
              "      <td>really time electric good enough city driving ...</td>\n",
              "    </tr>\n",
              "    <tr>\n",
              "      <th>1</th>\n",
              "      <td>2020-01-15</td>\n",
              "      <td>chargefox chargers local westfield read takes ...</td>\n",
              "    </tr>\n",
              "    <tr>\n",
              "      <th>2</th>\n",
              "      <td>2020-01-15</td>\n",
              "      <td>exactly present glowing review really almost f...</td>\n",
              "    </tr>\n",
              "    <tr>\n",
              "      <th>3</th>\n",
              "      <td>2020-01-15</td>\n",
              "      <td>ive thinking swap go system work electric cars...</td>\n",
              "    </tr>\n",
              "    <tr>\n",
              "      <th>4</th>\n",
              "      <td>2020-01-15</td>\n",
              "      <td>looking forward good information found not cho...</td>\n",
              "    </tr>\n",
              "  </tbody>\n",
              "</table>\n",
              "</div>"
            ],
            "text/plain": [
              "        date                                            comment\n",
              "0 2020-01-15  really time electric good enough city driving ...\n",
              "1 2020-01-15  chargefox chargers local westfield read takes ...\n",
              "2 2020-01-15  exactly present glowing review really almost f...\n",
              "3 2020-01-15  ive thinking swap go system work electric cars...\n",
              "4 2020-01-15  looking forward good information found not cho..."
            ]
          },
          "metadata": {
            "tags": []
          },
          "execution_count": 49
        }
      ]
    },
    {
      "cell_type": "markdown",
      "metadata": {
        "id": "OaJd1DC8mueJ"
      },
      "source": [
        "### Standardization of comment  \n",
        "**Stemming**  \n",
        "Remove prefix, suffix etc, to derive the base form of a word"
      ]
    },
    {
      "cell_type": "code",
      "metadata": {
        "colab": {
          "base_uri": "https://localhost:8080/",
          "height": 197
        },
        "id": "0NWsg01Zm1Z8",
        "outputId": "b4977a29-7702-440b-94f7-84a56a3bb0f4"
      },
      "source": [
        "# import library\n",
        "from nltk.stem import PorterStemmer\n",
        "\n",
        "stemmer = PorterStemmer()\n",
        "\n",
        "# define the function\n",
        "def stemming_function(sent):\n",
        "  word_list = sent.split()\n",
        "  stemmed_word_list = [stemmer.stem(word) for word in word_list]\n",
        "  stemmed_sentence = \" \".join(stemmed_word_list)\n",
        "  return stemmed_sentence\n",
        "\n",
        "df_reddit['comment_stemmed'] = df_reddit['comment'].apply(stemming_function)\n",
        "df_reddit.head()"
      ],
      "execution_count": null,
      "outputs": [
        {
          "output_type": "execute_result",
          "data": {
            "text/html": [
              "<div>\n",
              "<style scoped>\n",
              "    .dataframe tbody tr th:only-of-type {\n",
              "        vertical-align: middle;\n",
              "    }\n",
              "\n",
              "    .dataframe tbody tr th {\n",
              "        vertical-align: top;\n",
              "    }\n",
              "\n",
              "    .dataframe thead th {\n",
              "        text-align: right;\n",
              "    }\n",
              "</style>\n",
              "<table border=\"1\" class=\"dataframe\">\n",
              "  <thead>\n",
              "    <tr style=\"text-align: right;\">\n",
              "      <th></th>\n",
              "      <th>date</th>\n",
              "      <th>comment</th>\n",
              "      <th>comment_stemmed</th>\n",
              "    </tr>\n",
              "  </thead>\n",
              "  <tbody>\n",
              "    <tr>\n",
              "      <th>0</th>\n",
              "      <td>2020-01-15</td>\n",
              "      <td>really time electric good enough city driving ...</td>\n",
              "      <td>realli time electr good enough citi drive go r...</td>\n",
              "    </tr>\n",
              "    <tr>\n",
              "      <th>1</th>\n",
              "      <td>2020-01-15</td>\n",
              "      <td>chargefox chargers local westfield read takes ...</td>\n",
              "      <td>chargefox charger local westfield read take 15...</td>\n",
              "    </tr>\n",
              "    <tr>\n",
              "      <th>2</th>\n",
              "      <td>2020-01-15</td>\n",
              "      <td>exactly present glowing review really almost f...</td>\n",
              "      <td>exactli present glow review realli almost full...</td>\n",
              "    </tr>\n",
              "    <tr>\n",
              "      <th>3</th>\n",
              "      <td>2020-01-15</td>\n",
              "      <td>ive thinking swap go system work electric cars...</td>\n",
              "      <td>ive think swap go system work electr car car n...</td>\n",
              "    </tr>\n",
              "    <tr>\n",
              "      <th>4</th>\n",
              "      <td>2020-01-15</td>\n",
              "      <td>looking forward good information found not cho...</td>\n",
              "      <td>look forward good inform found not chosen best...</td>\n",
              "    </tr>\n",
              "  </tbody>\n",
              "</table>\n",
              "</div>"
            ],
            "text/plain": [
              "        date  ...                                    comment_stemmed\n",
              "0 2020-01-15  ...  realli time electr good enough citi drive go r...\n",
              "1 2020-01-15  ...  chargefox charger local westfield read take 15...\n",
              "2 2020-01-15  ...  exactli present glow review realli almost full...\n",
              "3 2020-01-15  ...  ive think swap go system work electr car car n...\n",
              "4 2020-01-15  ...  look forward good inform found not chosen best...\n",
              "\n",
              "[5 rows x 3 columns]"
            ]
          },
          "metadata": {
            "tags": []
          },
          "execution_count": 50
        }
      ]
    },
    {
      "cell_type": "markdown",
      "metadata": {
        "id": "8x2yByipnAJ0"
      },
      "source": [
        "**Lemmatization**  \n",
        "Converting the given word into it's base form according to the dictionary meaning of the word."
      ]
    },
    {
      "cell_type": "code",
      "metadata": {
        "colab": {
          "base_uri": "https://localhost:8080/"
        },
        "id": "UGtaEzDUn5eD",
        "outputId": "13aa8a66-22a0-4073-ec30-2110cbad5eee"
      },
      "source": [
        "# Download wordnet\n",
        "nltk.download('wordnet')"
      ],
      "execution_count": null,
      "outputs": [
        {
          "output_type": "stream",
          "text": [
            "[nltk_data] Downloading package wordnet to /root/nltk_data...\n",
            "[nltk_data]   Unzipping corpora/wordnet.zip.\n"
          ],
          "name": "stdout"
        },
        {
          "output_type": "execute_result",
          "data": {
            "text/plain": [
              "True"
            ]
          },
          "metadata": {
            "tags": []
          },
          "execution_count": 51
        }
      ]
    },
    {
      "cell_type": "code",
      "metadata": {
        "colab": {
          "base_uri": "https://localhost:8080/",
          "height": 573
        },
        "id": "vj64brYtn7xS",
        "outputId": "44ae5877-179b-4bc3-bd45-0eff0dd58935"
      },
      "source": [
        "# import library\n",
        "from nltk.stem import WordNetLemmatizer\n",
        "lemmtizer = WordNetLemmatizer()\n",
        "\n",
        "# Define the function\n",
        "def lemmatize_function(sent):\n",
        "  word_list = sent.split()\n",
        "  lemma_word_list = [lemmtizer.lemmatize(word) for word in word_list]\n",
        "  lemma_sentence = \" \".join(lemma_word_list)\n",
        "  return lemma_sentence\n",
        "\n",
        "df_reddit['comment_lemmatized'] = df_reddit['comment'].apply(lemmatize_function)\n",
        "df_reddit"
      ],
      "execution_count": null,
      "outputs": [
        {
          "output_type": "execute_result",
          "data": {
            "text/html": [
              "<div>\n",
              "<style scoped>\n",
              "    .dataframe tbody tr th:only-of-type {\n",
              "        vertical-align: middle;\n",
              "    }\n",
              "\n",
              "    .dataframe tbody tr th {\n",
              "        vertical-align: top;\n",
              "    }\n",
              "\n",
              "    .dataframe thead th {\n",
              "        text-align: right;\n",
              "    }\n",
              "</style>\n",
              "<table border=\"1\" class=\"dataframe\">\n",
              "  <thead>\n",
              "    <tr style=\"text-align: right;\">\n",
              "      <th></th>\n",
              "      <th>date</th>\n",
              "      <th>comment</th>\n",
              "      <th>comment_stemmed</th>\n",
              "      <th>comment_lemmatized</th>\n",
              "    </tr>\n",
              "  </thead>\n",
              "  <tbody>\n",
              "    <tr>\n",
              "      <th>0</th>\n",
              "      <td>2020-01-15</td>\n",
              "      <td>really time electric good enough city driving ...</td>\n",
              "      <td>realli time electr good enough citi drive go r...</td>\n",
              "      <td>really time electric good enough city driving ...</td>\n",
              "    </tr>\n",
              "    <tr>\n",
              "      <th>1</th>\n",
              "      <td>2020-01-15</td>\n",
              "      <td>chargefox chargers local westfield read takes ...</td>\n",
              "      <td>chargefox charger local westfield read take 15...</td>\n",
              "      <td>chargefox charger local westfield read take 15...</td>\n",
              "    </tr>\n",
              "    <tr>\n",
              "      <th>2</th>\n",
              "      <td>2020-01-15</td>\n",
              "      <td>exactly present glowing review really almost f...</td>\n",
              "      <td>exactli present glow review realli almost full...</td>\n",
              "      <td>exactly present glowing review really almost f...</td>\n",
              "    </tr>\n",
              "    <tr>\n",
              "      <th>3</th>\n",
              "      <td>2020-01-15</td>\n",
              "      <td>ive thinking swap go system work electric cars...</td>\n",
              "      <td>ive think swap go system work electr car car n...</td>\n",
              "      <td>ive thinking swap go system work electric car ...</td>\n",
              "    </tr>\n",
              "    <tr>\n",
              "      <th>4</th>\n",
              "      <td>2020-01-15</td>\n",
              "      <td>looking forward good information found not cho...</td>\n",
              "      <td>look forward good inform found not chosen best...</td>\n",
              "      <td>looking forward good information found not cho...</td>\n",
              "    </tr>\n",
              "    <tr>\n",
              "      <th>...</th>\n",
              "      <td>...</td>\n",
              "      <td>...</td>\n",
              "      <td>...</td>\n",
              "      <td>...</td>\n",
              "    </tr>\n",
              "    <tr>\n",
              "      <th>1528</th>\n",
              "      <td>2020-03-08</td>\n",
              "      <td>see reason remove make lower threshold current...</td>\n",
              "      <td>see reason remov make lower threshold current ...</td>\n",
              "      <td>see reason remove make lower threshold current...</td>\n",
              "    </tr>\n",
              "    <tr>\n",
              "      <th>1529</th>\n",
              "      <td>2020-03-08</td>\n",
              "      <td>almostthe cheapest model 70the 70d adds allwhe...</td>\n",
              "      <td>almostth cheapest model 70the 70d add allwheel...</td>\n",
              "      <td>almostthe cheapest model 70the 70d add allwhee...</td>\n",
              "    </tr>\n",
              "    <tr>\n",
              "      <th>1530</th>\n",
              "      <td>2020-03-08</td>\n",
              "      <td>fair enough going site see listed know teslas ...</td>\n",
              "      <td>fair enough go site see list know tesla beyond...</td>\n",
              "      <td>fair enough going site see listed know tesla b...</td>\n",
              "    </tr>\n",
              "    <tr>\n",
              "      <th>1531</th>\n",
              "      <td>2020-03-08</td>\n",
              "      <td>yeah design section little confusing probably ...</td>\n",
              "      <td>yeah design section littl confus probabl desig...</td>\n",
              "      <td>yeah design section little confusing probably ...</td>\n",
              "    </tr>\n",
              "    <tr>\n",
              "      <th>1532</th>\n",
              "      <td>2020-03-08</td>\n",
              "      <td>looks inside lamborghinis jaw dropping looks a...</td>\n",
              "      <td>look insid lamborghini jaw drop look alway lat...</td>\n",
              "      <td>look inside lamborghinis jaw dropping look alw...</td>\n",
              "    </tr>\n",
              "  </tbody>\n",
              "</table>\n",
              "<p>1434 rows × 4 columns</p>\n",
              "</div>"
            ],
            "text/plain": [
              "           date  ...                                 comment_lemmatized\n",
              "0    2020-01-15  ...  really time electric good enough city driving ...\n",
              "1    2020-01-15  ...  chargefox charger local westfield read take 15...\n",
              "2    2020-01-15  ...  exactly present glowing review really almost f...\n",
              "3    2020-01-15  ...  ive thinking swap go system work electric car ...\n",
              "4    2020-01-15  ...  looking forward good information found not cho...\n",
              "...         ...  ...                                                ...\n",
              "1528 2020-03-08  ...  see reason remove make lower threshold current...\n",
              "1529 2020-03-08  ...  almostthe cheapest model 70the 70d add allwhee...\n",
              "1530 2020-03-08  ...  fair enough going site see listed know tesla b...\n",
              "1531 2020-03-08  ...  yeah design section little confusing probably ...\n",
              "1532 2020-03-08  ...  look inside lamborghinis jaw dropping look alw...\n",
              "\n",
              "[1434 rows x 4 columns]"
            ]
          },
          "metadata": {
            "tags": []
          },
          "execution_count": 52
        }
      ]
    },
    {
      "cell_type": "markdown",
      "metadata": {
        "id": "qlvn0ZCFpdX3"
      },
      "source": [
        "There are a lot of wording issues in Stemming, ex: remov, littl, electr,.. Thought observation, Lemmatization algorithm or original data seem to be better in this case when compared to Stemmming algorith.  \n",
        "**Therefore, we can keep the original or Lemmatized data for further analysis**"
      ]
    },
    {
      "cell_type": "code",
      "metadata": {
        "id": "sXKAWkD2CJwG"
      },
      "source": [
        "#df_reddit['comment'] = df_reddit['comment'].apply(lemmatize_function)\n",
        "df_reddit = df_reddit[['date','comment']]"
      ],
      "execution_count": null,
      "outputs": []
    },
    {
      "cell_type": "markdown",
      "metadata": {
        "id": "zNfALQAOf2Us"
      },
      "source": [
        "### Word frequency analysis"
      ]
    },
    {
      "cell_type": "code",
      "metadata": {
        "id": "ODCcmeUhf10p"
      },
      "source": [
        "word_frequency = pd.Series(' '.join(df_reddit['comment']).split()).value_counts()"
      ],
      "execution_count": null,
      "outputs": []
    },
    {
      "cell_type": "code",
      "metadata": {
        "id": "jQ1INXYYglLy",
        "colab": {
          "base_uri": "https://localhost:8080/"
        },
        "outputId": "6ee56a32-b36c-455b-d8ce-230d10a3fd8b"
      },
      "source": [
        "# Top common words\n",
        "word_frequency[:10]  # get top 10"
      ],
      "execution_count": null,
      "outputs": [
        {
          "output_type": "execute_result",
          "data": {
            "text/plain": [
              "not          395\n",
              "car          388\n",
              "electric     337\n",
              "cars         289\n",
              "like         228\n",
              "ev           159\n",
              "years        152\n",
              "australia    143\n",
              "tesla        136\n",
              "think        133\n",
              "dtype: int64"
            ]
          },
          "metadata": {
            "tags": []
          },
          "execution_count": 55
        }
      ]
    },
    {
      "cell_type": "code",
      "metadata": {
        "colab": {
          "base_uri": "https://localhost:8080/",
          "height": 408
        },
        "id": "yRTcH4HM_VRw",
        "outputId": "f5cc2326-6837-49cd-95a3-5b88d5d1d132"
      },
      "source": [
        "# import library\n",
        "import matplotlib.pyplot as plt\n",
        "import seaborn as sns\n",
        "\n",
        "# Visualize the top word counts \n",
        "word_count  = word_frequency\n",
        "word_count = word_count[:10,]\n",
        "plt.figure(figsize=(10,5))\n",
        "sns.barplot(word_count.index, word_count.values, alpha=0.8)\n",
        "plt.title('Comment in top 10 words')\n",
        "plt.ylabel('Number of Occurrences', fontsize=12)\n",
        "plt.xlabel('Word', fontsize=12)\n",
        "plt.show()"
      ],
      "execution_count": null,
      "outputs": [
        {
          "output_type": "stream",
          "text": [
            "/usr/local/lib/python3.7/dist-packages/seaborn/_decorators.py:43: FutureWarning: Pass the following variables as keyword args: x, y. From version 0.12, the only valid positional argument will be `data`, and passing other arguments without an explicit keyword will result in an error or misinterpretation.\n",
            "  FutureWarning\n"
          ],
          "name": "stderr"
        },
        {
          "output_type": "display_data",
          "data": {
            "image/png": "[encoded data removed]",
            "text/plain": [
              "<Figure size 720x360 with 1 Axes>"
            ]
          },
          "metadata": {
            "tags": [],
            "needs_background": "light"
          }
        }
      ]
    },
    {
      "cell_type": "code",
      "metadata": {
        "colab": {
          "base_uri": "https://localhost:8080/",
          "height": 197
        },
        "id": "ld8PwtMx_cSo",
        "outputId": "de059fe8-860d-420f-baf9-daaabfa8c2f8"
      },
      "source": [
        "# import library\n",
        "from PIL import Image\n",
        "from wordcloud import WordCloud\n",
        "\n",
        "# create word cloud\n",
        "corpus = list(df_reddit['comment'])\n",
        "\n",
        "wordcloud = WordCloud(background_color='white', max_words=200, max_font_size=50, random_state=42).generate(str(corpus))\n",
        "\n",
        "fig = plt.figure(1)\n",
        "plt.imshow(wordcloud)\n",
        "plt.axis('off')\n",
        "plt.show()"
      ],
      "execution_count": null,
      "outputs": [
        {
          "output_type": "display_data",
          "data": {
            "image/png": "[encoded data removed]",
            "text/plain": [
              "<Figure size 432x288 with 1 Axes>"
            ]
          },
          "metadata": {
            "tags": [],
            "needs_background": "light"
          }
        }
      ]
    },
    {
      "cell_type": "markdown",
      "metadata": {
        "id": "mJKOjxHZBDRo"
      },
      "source": [
        "From the word cloud we could identify that the terms **car, not, electric, ev, australia** has been mentioned frequently. Some of the words are expected - it will not generate much an insight.  \n",
        "**Therefore, those high frequency non-insightful words will be removed.**"
      ]
    },
    {
      "cell_type": "markdown",
      "metadata": {
        "id": "g6NwR9pVBuhg"
      },
      "source": [
        "### Remove common words  \n",
        "Based on the context, those expected and non-insightful words will be removed from the dataset"
      ]
    },
    {
      "cell_type": "code",
      "metadata": {
        "id": "4zw-r_L0B7Ue"
      },
      "source": [
        "# Creating a list of custom stopwords\n",
        "new_words_to_remove = [\"car\", 'cars', \"electric\", \"ev\",'evs', 'vehicle', 'vehicles', 'australia', 'not', 'like', 'think', 'need', 'going', 'really']"
      ],
      "execution_count": null,
      "outputs": []
    },
    {
      "cell_type": "code",
      "metadata": {
        "colab": {
          "base_uri": "https://localhost:8080/",
          "height": 324
        },
        "id": "pEhDKuKcBttR",
        "outputId": "bbb11053-625b-4030-de84-7cfe3cfe2e91"
      },
      "source": [
        "# Remove common words using lambda function\n",
        "df_reddit['comment'] = df_reddit['comment'].apply(lambda x: \" \".join(x for x in x.split() if x not in new_words_to_remove))\n",
        "df_reddit.head(5)"
      ],
      "execution_count": null,
      "outputs": [
        {
          "output_type": "stream",
          "text": [
            "/usr/local/lib/python3.7/dist-packages/ipykernel_launcher.py:2: SettingWithCopyWarning: \n",
            "A value is trying to be set on a copy of a slice from a DataFrame.\n",
            "Try using .loc[row_indexer,col_indexer] = value instead\n",
            "\n",
            "See the caveats in the documentation: https://pandas.pydata.org/pandas-docs/stable/user_guide/indexing.html#returning-a-view-versus-a-copy\n",
            "  \n"
          ],
          "name": "stderr"
        },
        {
          "output_type": "execute_result",
          "data": {
            "text/html": [
              "<div>\n",
              "<style scoped>\n",
              "    .dataframe tbody tr th:only-of-type {\n",
              "        vertical-align: middle;\n",
              "    }\n",
              "\n",
              "    .dataframe tbody tr th {\n",
              "        vertical-align: top;\n",
              "    }\n",
              "\n",
              "    .dataframe thead th {\n",
              "        text-align: right;\n",
              "    }\n",
              "</style>\n",
              "<table border=\"1\" class=\"dataframe\">\n",
              "  <thead>\n",
              "    <tr style=\"text-align: right;\">\n",
              "      <th></th>\n",
              "      <th>date</th>\n",
              "      <th>comment</th>\n",
              "    </tr>\n",
              "  </thead>\n",
              "  <tbody>\n",
              "    <tr>\n",
              "      <th>0</th>\n",
              "      <td>2020-01-15</td>\n",
              "      <td>time good enough city driving replace fossil f...</td>\n",
              "    </tr>\n",
              "    <tr>\n",
              "      <th>1</th>\n",
              "      <td>2020-01-15</td>\n",
              "      <td>chargefox chargers local westfield read takes ...</td>\n",
              "    </tr>\n",
              "    <tr>\n",
              "      <th>2</th>\n",
              "      <td>2020-01-15</td>\n",
              "      <td>exactly present glowing review almost full tim...</td>\n",
              "    </tr>\n",
              "    <tr>\n",
              "      <th>3</th>\n",
              "      <td>2020-01-15</td>\n",
              "      <td>ive thinking swap go system work battery type ...</td>\n",
              "    </tr>\n",
              "    <tr>\n",
              "      <th>4</th>\n",
              "      <td>2020-01-15</td>\n",
              "      <td>looking forward good information found chosen ...</td>\n",
              "    </tr>\n",
              "  </tbody>\n",
              "</table>\n",
              "</div>"
            ],
            "text/plain": [
              "        date                                            comment\n",
              "0 2020-01-15  time good enough city driving replace fossil f...\n",
              "1 2020-01-15  chargefox chargers local westfield read takes ...\n",
              "2 2020-01-15  exactly present glowing review almost full tim...\n",
              "3 2020-01-15  ive thinking swap go system work battery type ...\n",
              "4 2020-01-15  looking forward good information found chosen ..."
            ]
          },
          "metadata": {
            "tags": []
          },
          "execution_count": 59
        }
      ]
    },
    {
      "cell_type": "markdown",
      "metadata": {
        "id": "ad3_eWnQCx8Z"
      },
      "source": [
        "## Re-attempt frequency word list"
      ]
    },
    {
      "cell_type": "code",
      "metadata": {
        "id": "reD_ay0xC1eT"
      },
      "source": [
        "# Create a word frequency series. (This is a pandas series)\n",
        "word_frequency = pd.Series(' '.join(df_reddit['comment']).split()).value_counts()"
      ],
      "execution_count": null,
      "outputs": []
    },
    {
      "cell_type": "code",
      "metadata": {
        "colab": {
          "base_uri": "https://localhost:8080/"
        },
        "id": "tdIfmxZhC3Yh",
        "outputId": "83f74622-a6fc-4e79-aa2c-9e8a55b832c1"
      },
      "source": [
        "# Look at the top 10 words\n",
        "word_frequency[:10]"
      ],
      "execution_count": null,
      "outputs": [
        {
          "output_type": "execute_result",
          "data": {
            "text/plain": [
              "years       152\n",
              "tesla       136\n",
              "market      126\n",
              "charging    125\n",
              "charge      118\n",
              "time        117\n",
              "power       109\n",
              "range       108\n",
              "coal        100\n",
              "see          98\n",
              "dtype: int64"
            ]
          },
          "metadata": {
            "tags": []
          },
          "execution_count": 61
        }
      ]
    },
    {
      "cell_type": "code",
      "metadata": {
        "colab": {
          "base_uri": "https://localhost:8080/",
          "height": 408
        },
        "id": "rGni_OtHU7xj",
        "outputId": "08ba23da-8518-4096-8ffc-2d5f0ec00d55"
      },
      "source": [
        "# Visualize the top word counts \n",
        "word_count  = word_frequency\n",
        "word_count = word_count[:10,]\n",
        "plt.figure(figsize=(10,5))\n",
        "sns.barplot(word_count.index, word_count.values, alpha=0.8)\n",
        "plt.title('Comment in top 10 words')\n",
        "plt.ylabel('Number of Occurrences', fontsize=12)\n",
        "plt.xlabel('Word', fontsize=12)\n",
        "plt.show()"
      ],
      "execution_count": null,
      "outputs": [
        {
          "output_type": "stream",
          "text": [
            "/usr/local/lib/python3.7/dist-packages/seaborn/_decorators.py:43: FutureWarning: Pass the following variables as keyword args: x, y. From version 0.12, the only valid positional argument will be `data`, and passing other arguments without an explicit keyword will result in an error or misinterpretation.\n",
            "  FutureWarning\n"
          ],
          "name": "stderr"
        },
        {
          "output_type": "display_data",
          "data": {
            "image/png": "[encoded data removed]",
            "text/plain": [
              "<Figure size 720x360 with 1 Axes>"
            ]
          },
          "metadata": {
            "tags": [],
            "needs_background": "light"
          }
        }
      ]
    },
    {
      "cell_type": "code",
      "metadata": {
        "colab": {
          "base_uri": "https://localhost:8080/",
          "height": 197
        },
        "id": "qncEE0c6DDaf",
        "outputId": "9ff5ba06-01e8-45af-cfa0-f5a1ce6eb73c"
      },
      "source": [
        "# Generate word cloud\n",
        "corpus = list(df_reddit['comment'])\n",
        "\n",
        "wordcloud = WordCloud(background_color='white', max_words=200, max_font_size=50, random_state=42).generate(str(corpus))\n",
        "\n",
        "fig = plt.figure(1)\n",
        "plt.imshow(wordcloud)\n",
        "plt.axis('off')\n",
        "plt.show()"
      ],
      "execution_count": null,
      "outputs": [
        {
          "output_type": "display_data",
          "data": {
            "image/png": "[encoded data removed]",
            "text/plain": [
              "<Figure size 432x288 with 1 Axes>"
            ]
          },
          "metadata": {
            "tags": [],
            "needs_background": "light"
          }
        }
      ]
    }
  ]
}